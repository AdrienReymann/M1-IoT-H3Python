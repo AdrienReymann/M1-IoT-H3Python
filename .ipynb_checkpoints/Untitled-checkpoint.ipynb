{
 "cells": [
  {
   "cell_type": "markdown",
   "metadata": {},
   "source": [
    "# F3\n"
   ]
  },
  {
   "cell_type": "markdown",
   "metadata": {},
   "source": [
    "F3(x,y)=(x-1)²+10(x²-y)²\n",
    "\n",
    "        = x²-2x +1 +10[x^4-2x²y+y²]\n",
    "        = 10x^4-20x²y+10y²-2x+1+x²\n",
    "        \n",
    "∇f (df/dx\n",
    "    df/dy)\n",
    "            \n",
    "df/dx = 40x^3 -40xy +2x-2\n",
    "           2x-2 = 0\n",
    "           2x =2\n",
    "           x = 1\n",
    "\n",
    "df/dy = -20x²+20y \n",
    "        - x² + y = 0\n",
    "        y = x²\n",
    "        y = 1"
   ]
  },
  {
   "cell_type": "code",
   "execution_count": 10,
   "metadata": {},
   "outputs": [],
   "source": [
    "def f3(x,y):\n",
    "    x0 = (40*pow(x,3))-(40*x*y)+(2*x)-2\n",
    "    y0 = (-20*(pow(x,2)))+(20*y)\n",
    "    print(\"({},{})\".format(x0, y0))\n",
    "\n",
    "    "
   ]
  },
  {
   "cell_type": "code",
   "execution_count": 11,
   "metadata": {},
   "outputs": [
    {
     "name": "stdout",
     "output_type": "stream",
     "text": [
      "(0,0)\n"
     ]
    }
   ],
   "source": [
    "f3(1,1)"
   ]
  },
  {
   "cell_type": "code",
   "execution_count": null,
   "metadata": {},
   "outputs": [],
   "source": []
  }
 ],
 "metadata": {
  "kernelspec": {
   "display_name": "Python 3",
   "language": "python",
   "name": "python3"
  },
  "language_info": {
   "codemirror_mode": {
    "name": "ipython",
    "version": 3
   },
   "file_extension": ".py",
   "mimetype": "text/x-python",
   "name": "python",
   "nbconvert_exporter": "python",
   "pygments_lexer": "ipython3",
   "version": "3.8.5"
  }
 },
 "nbformat": 4,
 "nbformat_minor": 4
}
