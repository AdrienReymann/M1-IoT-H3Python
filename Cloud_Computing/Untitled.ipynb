{
 "cells": [
  {
   "cell_type": "code",
   "execution_count": 6,
   "metadata": {},
   "outputs": [],
   "source": [
    "import pandas as pd"
   ]
  },
  {
   "cell_type": "code",
   "execution_count": 7,
   "metadata": {},
   "outputs": [],
   "source": [
    "class DataHandler:\n",
    "    \n",
    "    \"\"\"\n",
    "        Récupération des data depuis le GCS Bucket\n",
    "    \"\"\"\n",
    "\n",
    "    def __init__(self):\n",
    "        self.df_listing_final = None \n",
    "        self.df_price_avaibility = None \n",
    "        self.df_merge = None \n",
    "        \n",
    "    def get_data(self):\n",
    "        \"\"\"\n",
    "            Récupération des dataset sur le GCS Bucket\n",
    "        \"\"\"\n",
    "        self.df_listing_final = pd.read_csv('https://storage.googleapis.com/h3-data/listings_final.csv',sep=\";\",index_col=0)\n",
    "        self.df_price_avaibility = pd.read_csv('https://storage.googleapis.com/h3-data/price_availability.csv',sep=\";\")\n",
    "        print(\"data chargés\")\n",
    "        \n",
    "    def group_data(self):\n",
    "        \"\"\"\n",
    "            Merge des datas\n",
    "        \"\"\"\n",
    "        dataMean = self.df_price_avaibility.groupby('listing_id')['local_price'].mean()\n",
    "        self.df_merge = pd.merge(dataMean,self.df_listing_final,on='listing_id')\n",
    "        print('Data merged')\n",
    "        \n",
    "    def get_process_data(self):\n",
    "        \"\"\"\n",
    "            Lancement des différente méthode get_data()+goup_data()\n",
    "        \"\"\"\n",
    "        self.get_data()\n",
    "        self.group_data()\n",
    "        print(self.df_merge.dtypes)\n",
    "        print('Data processed')\n",
    "    "
   ]
  },
  {
   "cell_type": "code",
   "execution_count": 8,
   "metadata": {},
   "outputs": [],
   "source": [
    "data = DataHandler()"
   ]
  },
  {
   "cell_type": "code",
   "execution_count": null,
   "metadata": {},
   "outputs": [],
   "source": [
    "data = data.get_process_data()\n",
    "%time"
   ]
  },
  {
   "cell_type": "code",
   "execution_count": null,
   "metadata": {},
   "outputs": [],
   "source": [
    "class FeatureRecipe:\n",
    "    \n",
    "    def __init__(self, data):\n",
    "        self.df = data\n",
    "\n",
    "    def separate_variable_types(self) -> None:\n",
    "        \"\"\" TODO : Diviser les types de variables dans un tableau \"\"\"\n",
    "        \n",
    "        pass\n",
    "    \n",
    "    def drop_uselessf(self):\n",
    "        \"\"\" TODO : Supprimer les colonnes inutiles du dataset \"\"\"\n",
    "        colonnes_drop=['is_rebookable',\n",
    "                       'is_new_listing',\n",
    "                       'is_fully_refundable',\n",
    "                       'is_host_highly_rated',\n",
    "                       'is_business_travel_ready'\n",
    "                      ]\n",
    "        \n",
    "        for i in colonnes_drop: \n",
    "            del data[i]\n",
    "        #self.df.drop(columns=colonnes_drop,implace=True)\n",
    "    \n",
    "        \n",
    "        \"\"\"to_drop = ['is_rebookable','is_new_listing','is_fully_refundable','is_business_travel_ready']\n",
    "        self.df.drop(columns=to_drop, inplace=True)\"\"\"\n",
    "    \n",
    "    def drop_duplicate(self):\n",
    "        \"\"\" TODO : Supprimer les lignes dupliquées du dataset \"\"\"\n",
    "        a=0\n",
    "        for i in self.df:\n",
    "            a+=1\n",
    "            b=0\n",
    "            for j in self.df:\n",
    "                b +=1\n",
    "                if a != b and self.df[i].equals(self.df[j]) == True:\n",
    "                    self.df.drop(columns=j,implace=True)\n",
    "                    print('{} supprimée'.format(j))\n",
    "        \n",
    "    def drop_nanp(self, threshold: float):\n",
    "        \"\"\" TODO : Supprimer un pourcentage de NA du dataset \"\"\"\n",
    "        for i in self.df:\n",
    "            NaN = self.df[i].isna().sum()\n",
    "            result = (NaN/threshold)*100\n",
    "            if result>6:\n",
    "                self.df.drop(columns=[i],inplace=True)\n",
    "                \n",
    "    def deal_dtime(self):\n",
    "        \"\"\" TODO : Traiter les DateTime \"\"\"\n",
    "        pass\n",
    "\n",
    "    def prepare_data(self, threshold: float):\n",
    "        #self.separate_variable_types()\n",
    "        self.drop_uselessf()\n",
    "        self.drop_duplicate()\n",
    "        self.drop_nanp(threshold)\n",
    "        #self.deal_dtime()"
   ]
  },
  {
   "cell_type": "code",
   "execution_count": null,
   "metadata": {
    "scrolled": true
   },
   "outputs": [],
   "source": [
    "data = DataHandler()\n",
    "feature = FeatureRecipe(data.df_merge)\n",
    "feature.prepare_data(30)"
   ]
  },
  {
   "cell_type": "code",
   "execution_count": null,
   "metadata": {},
   "outputs": [],
   "source": []
  }
 ],
 "metadata": {
  "kernelspec": {
   "display_name": "Python 3",
   "language": "python",
   "name": "python3"
  },
  "language_info": {
   "codemirror_mode": {
    "name": "ipython",
    "version": 3
   },
   "file_extension": ".py",
   "mimetype": "text/x-python",
   "name": "python",
   "nbconvert_exporter": "python",
   "pygments_lexer": "ipython3",
   "version": "3.8.5"
  }
 },
 "nbformat": 4,
 "nbformat_minor": 4
}
