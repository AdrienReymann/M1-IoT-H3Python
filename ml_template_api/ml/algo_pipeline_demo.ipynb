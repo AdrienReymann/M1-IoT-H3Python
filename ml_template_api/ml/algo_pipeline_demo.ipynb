{
 "cells": [
  {
   "cell_type": "code",
   "execution_count": 10,
   "metadata": {},
   "outputs": [],
   "source": [
    "import pandas as pd\n",
    "import numpy as np\n",
    "import sklearn as skn\n",
    "import matplotlib as plt"
   ]
  },
  {
   "cell_type": "code",
   "execution_count": 11,
   "metadata": {},
   "outputs": [],
   "source": [
    "class DataHandler:\n",
    "    \n",
    "    \"\"\"\n",
    "        Récupération des data depuis le GCS Bucket\n",
    "    \"\"\"\n",
    "\n",
    "    def __init__(self):\n",
    "        self.df = None \n",
    "        self.df_vaccin = None \n",
    "        \n",
    "    def get_data(self):\n",
    "        \"\"\"\n",
    "            Récupération des dataset sur le GCS Bucket\n",
    "        \"\"\"\n",
    "        self.df_vaccin= pd.read_csv(\"vaccination_tweets.csv\",sep=\",\",index_col=0)\n",
    "        print(\"data chargés\")\n",
    "\n",
    "    def get_process_data(self):\n",
    "        \"\"\"\n",
    "            Lancement des différente méthode get_data()+goup_data()\n",
    "        \"\"\"\n",
    "        self.get_data()\n",
    "        return self.get_data()\n",
    "        print('Data processed')"
   ]
  },
  {
   "cell_type": "code",
   "execution_count": 12,
   "metadata": {},
   "outputs": [
    {
     "name": "stdout",
     "output_type": "stream",
     "text": [
      "data chargés\n",
      "data chargés\n",
      "Wall time: 0 ns\n"
     ]
    }
   ],
   "source": [
    "data = DataHandler()\n",
    "data.get_process_data()\n",
    "%time"
   ]
  },
  {
   "cell_type": "code",
   "execution_count": 19,
   "metadata": {},
   "outputs": [],
   "source": [
    "class FeatureRecipe:\n",
    "    \n",
    "    def __init__(self, data: pd.DataFrame()):\n",
    "        self.df_data = data\n",
    "        self.cate = []\n",
    "        self.floa = []\n",
    "        self.intt = []\n",
    "        self.drop = []\n",
    "\n",
    "    def separate_variable_types(self) -> None:\n",
    "        \"\"\" TODO : Diviser les types de variables dans un tableau \"\"\"\n",
    "        #variables = self.df_data.dtypes\n",
    "        #var_tab = Arrays('int64',['125946'])\n",
    "        #print(var_tab[int64])\n",
    "        \n",
    "        \"\"\"correction\"\"\"\n",
    "        print(\"separating columns\")\n",
    "        for col in self.df_data.columns:\n",
    "            if self.df_data[col].dtypes == int:\n",
    "                self.intt.append(self.df_data[col])\n",
    "            elif self.df_data[col].dtypes == float:\n",
    "                self.floa.append(self.df_data[col])\n",
    "            else:\n",
    "                self.cate.append(self.df_data[col])\n",
    "        print (\"dataset column size : {} \\nnumber of discreet values : {} \\nnumber of continuous values : {} \\nnumber of others : {} \\ntaille total : {}\".format(len(self.df_data.columns),len(self.intt),len(self.floa),len(self.cate),len(self.intt)+len(self.floa)+len(self.cate) ))\n",
    "\n",
    "        \n",
    "    def drop_uselessf(self):\n",
    "        \"\"\" TODO : Supprimer les colonnes inutiles du dataset \"\"\"\n",
    "        colonnes_drop=['user_description',\n",
    "                       'user_followers',\n",
    "                       'user_friends',\n",
    "                       'hashtags',\n",
    "                       'source',\n",
    "                      ]\n",
    "        \n",
    "        #for i in colonnes_drop: \n",
    "            #del data[i]\n",
    "        self.df_data.drop(columns=colonnes_drop)\n",
    "    \n",
    "        \n",
    "        \"\"\"to_drop = ['is_rebookable','is_new_listing','is_fully_refundable','is_business_travel_ready']\n",
    "        self.df.drop(columns=to_drop, inplace=True)\"\"\"\n",
    "        \n",
    "        \n",
    "    \n",
    "    def Verif_data(self):\n",
    "        \"\"\" Vérif des data supérieur a 3%\"\"\"\n",
    "        for i in self.df_data:\n",
    "            NaN = self.df_data[i].isna().sum()\n",
    "            result = (NaN*3)/100\n",
    "            if result > 3:\n",
    "                pass\n",
    "\n",
    "\n",
    "    def prepare_data(self):\n",
    "        self.separate_variable_types()\n",
    "        self.drop_uselessf()\n",
    "        self.Verif_data()\n",
    "        #self.deal_dtime()"
   ]
  },
  {
   "cell_type": "code",
   "execution_count": 20,
   "metadata": {},
   "outputs": [
    {
     "name": "stdout",
     "output_type": "stream",
     "text": [
      "data chargés\n",
      "data chargés\n",
      "separating columns\n",
      "dataset column size : 15 \n",
      "number of discreet values : 0 \n",
      "number of continuous values : 0 \n",
      "number of others : 15 \n",
      "taille total : 15\n"
     ]
    }
   ],
   "source": [
    "data = DataHandler()\n",
    "data.get_process_data()\n",
    "feature = FeatureRecipe(data.df_vaccin)\n",
    "feature.prepare_data()"
   ]
  },
  {
   "cell_type": "code",
   "execution_count": null,
   "metadata": {},
   "outputs": [],
   "source": []
  }
 ],
 "metadata": {
  "kernelspec": {
   "display_name": "Python 3",
   "language": "python",
   "name": "python3"
  },
  "language_info": {
   "codemirror_mode": {
    "name": "ipython",
    "version": 3
   },
   "file_extension": ".py",
   "mimetype": "text/x-python",
   "name": "python",
   "nbconvert_exporter": "python",
   "pygments_lexer": "ipython3",
   "version": "3.8.5"
  }
 },
 "nbformat": 4,
 "nbformat_minor": 4
}
